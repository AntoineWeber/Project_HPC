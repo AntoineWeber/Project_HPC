{
 "cells": [
  {
   "cell_type": "code",
   "execution_count": null,
   "metadata": {},
   "outputs": [],
   "source": [
    "# run this cell twice\n",
    "\n",
    "import matplotlib.pyplot as plt\n",
    "import matplotlib.animation as animation\n",
    "import numpy as np\n",
    "\n",
    "%matplotlib notebook"
   ]
  },
  {
   "cell_type": "code",
   "execution_count": null,
   "metadata": {},
   "outputs": [],
   "source": [
    "N_PARTIC = 1024"
   ]
  },
  {
   "cell_type": "code",
   "execution_count": null,
   "metadata": {},
   "outputs": [],
   "source": [
    "f= open(\"trajectories.txt\",\"r\")"
   ]
  },
  {
   "cell_type": "code",
   "execution_count": null,
   "metadata": {},
   "outputs": [],
   "source": [
    "x_pos = []\n",
    "y_pos = []\n",
    "for idx,line in enumerate(f):\n",
    "    try:\n",
    "        fields = line.split(\" \")\n",
    "        y_pos.append(float(fields[1]))\n",
    "        x_pos.append(float(fields[0]))\n",
    "    except:\n",
    "        print(\"don't really know what's happening with this file.\")"
   ]
  },
  {
   "cell_type": "code",
   "execution_count": null,
   "metadata": {},
   "outputs": [],
   "source": [
    "plt.figure(0)\n",
    "plt.scatter(x_pos[0:N_PARTIC], y_pos[0:N_PARTIC], c='b')\n",
    "    \n",
    "plt.title(\"Initial Positions of Particles\")\n",
    "plt.xlabel(\"x axis value\")\n",
    "plt.ylabel(\"y axis value\")\n",
    "plt.grid(True)\n",
    "plt.show()"
   ]
  },
  {
   "cell_type": "code",
   "execution_count": null,
   "metadata": {},
   "outputs": [],
   "source": [
    "plt.figure(1)\n",
    "num = 30\n",
    "\n",
    "assert len(x_pos) == len(y_pos)\n",
    "\n",
    "for idx,i in enumerate(range(0,len(x_pos), N_PARTIC)):\n",
    "    plt.scatter(x_pos[i+num], y_pos[i+num], s=15, c='r')\n",
    "    if idx%5 == 0:\n",
    "        plt.annotate(str(idx), (x_pos[i+num]-0.2, y_pos[i+num]+0.1))\n",
    "\n",
    "\n",
    "plt.title(\"Trajectory of a particle\")\n",
    "plt.xlabel(\"x axis value\")\n",
    "plt.ylabel(\"y axis value\")\n",
    "plt.grid(True)\n",
    "plt.show()"
   ]
  },
  {
   "cell_type": "code",
   "execution_count": null,
   "metadata": {},
   "outputs": [],
   "source": [
    "def animate(i):\n",
    "    x = x_pos[(i*N_PARTIC):(i+1)*N_PARTIC]\n",
    "    y = y_pos[(i*N_PARTIC):(i+1)*N_PARTIC]\n",
    "    data = np.hstack((np.reshape(x, (-1,1)),np.reshape(y, (-1,1))))\n",
    "    scat.set_offsets(data)\n",
    "    return line,"
   ]
  },
  {
   "cell_type": "code",
   "execution_count": null,
   "metadata": {},
   "outputs": [],
   "source": [
    "fig = plt.figure(figsize=(7,7))\n",
    "\n",
    "ax = plt.axes(xlim=(-30,30),ylim=(-30,30))\n",
    "scat = ax.scatter(x_pos[0:N_PARTIC], y_pos[0:N_PARTIC], c='b', s=10)\n",
    "ax.grid(True)\n",
    "\n",
    "anim = animation.FuncAnimation(fig, animate, frames=99, interval=100)\n",
    "anim.save('animation.mp4')"
   ]
  },
  {
   "cell_type": "code",
   "execution_count": null,
   "metadata": {},
   "outputs": [],
   "source": []
  }
 ],
 "metadata": {
  "kernelspec": {
   "display_name": "Python 3",
   "language": "python",
   "name": "python3"
  },
  "language_info": {
   "codemirror_mode": {
    "name": "ipython",
    "version": 3
   },
   "file_extension": ".py",
   "mimetype": "text/x-python",
   "name": "python",
   "nbconvert_exporter": "python",
   "pygments_lexer": "ipython3",
   "version": "3.7.3"
  }
 },
 "nbformat": 4,
 "nbformat_minor": 2
}
